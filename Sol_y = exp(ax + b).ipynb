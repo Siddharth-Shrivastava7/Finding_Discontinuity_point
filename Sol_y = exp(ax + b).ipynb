{
 "cells": [
  {
   "cell_type": "code",
   "execution_count": 1,
   "metadata": {},
   "outputs": [],
   "source": [
    "import numpy as np \n",
    "from scipy import optimize,stats"
   ]
  },
  {
   "cell_type": "code",
   "execution_count": 2,
   "metadata": {},
   "outputs": [],
   "source": [
    "''' Converted given y = e^(ax+b) function into Y = log(y) = ax+b and thus it becomes linear \n",
    "equation in terms of Y and x with a and b as variables. Method which is used to detect wrong \n",
    "point is described as follows : Solved 99 pair of linear equations corresponding to each \n",
    "data point and its adajcent one, bascially found 99 values of a and b out of which\n",
    "atmost 2 values will be wrong (as there was one wrong data point in the dataset) hence maximum\n",
    "values of a and b will be right, thus used mode function to get extract correct\n",
    "values of a and b. And then from these values we predicted values of function, further \n",
    "substracted it from actual given values. The point where maximum error between our predicted\n",
    "and actual value occured was our wrong data point''' \n",
    "\n",
    "def main2(x,y):\n",
    "    ''' A is used to store 99 values of a from solving 99 pair of linear eqs'''\n",
    "    A = np.zeros(0) \n",
    "    ''' B is used to store 99 values of b from solving 99 pair of linear eqs'''\n",
    "    B = np.zeros(0) \n",
    "    ''' used to store values intermediate values used for solving pair of linear eqs'''\n",
    "    m = 0 \n",
    "    ''' used to store values intermediate values used for solving pair of linear eqs'''\n",
    "    n = 0 \n",
    "    ''' used to store exact values of a from using mode function to A matrix'''\n",
    "    a = 0\n",
    "    ''' used to store exact values of b from using mode function to B matrix'''\n",
    "    b = 0 \n",
    "    ''' Converting y to Y for make linear eqs in Y and x''' \n",
    "    \n",
    "    Y = np.log(y) \n",
    "    \n",
    "    for i in range (99):\n",
    "        m = [[Y[i], -x_data[i]] , [Y[i+1], -x_data[i+1] ]]\n",
    "        n = [1,1]\n",
    "        [d,s] = np.linalg.solve(m,n)\n",
    "        b = 1/d \n",
    "        a = s * b\n",
    "        A = np.append(A,a)\n",
    "        B = np.append(B,b)\n",
    "        \n",
    "    a = stats.mode(A)[0][0]\n",
    "    b = stats.mode(B)[0][0]\n",
    "    \n",
    "    '''Estimating predicted value using parameters found '''\n",
    "    \n",
    "    y_hat = np.exp(a * x_data + b)   \n",
    "    \n",
    "    ''' Calculating error between predicted and actual values'''\n",
    "    error = np.absolute((y - y_hat) / y) \n",
    "    \n",
    "    ''' Finding the index with max error'''\n",
    "    \n",
    "    index_max_error = np.argmax(error) + 1 \n",
    "    \n",
    "    return index_max_error"
   ]
  },
  {
   "cell_type": "code",
   "execution_count": 3,
   "metadata": {},
   "outputs": [],
   "source": [
    "''' assume x for example'''\n",
    "x_data = np.linspace(0, 5, num=99) \n",
    "''' considered y according to given function'''\n",
    "y_data = np.exp(10 * x_data + 15)\n",
    "''' inserting wrong point at a index of 14 (13 index according to python indexing)'''\n",
    "x_data = np.insert(x_data, 13, 7)\n",
    "y_data = np.insert(y_data, 13, 4e10 )"
   ]
  },
  {
   "cell_type": "code",
   "execution_count": 4,
   "metadata": {},
   "outputs": [
    {
     "data": {
      "text/plain": [
       "14"
      ]
     },
     "execution_count": 4,
     "metadata": {},
     "output_type": "execute_result"
    }
   ],
   "source": [
    "index = main2(x_data,y_data)\n",
    "''' the wrong point in the data set of 100 mentioned points'''\n",
    "index "
   ]
  }
 ],
 "metadata": {
  "kernelspec": {
   "display_name": "Python 3",
   "language": "python",
   "name": "python3"
  },
  "language_info": {
   "codemirror_mode": {
    "name": "ipython",
    "version": 3
   },
   "file_extension": ".py",
   "mimetype": "text/x-python",
   "name": "python",
   "nbconvert_exporter": "python",
   "pygments_lexer": "ipython3",
   "version": "3.6.5"
  }
 },
 "nbformat": 4,
 "nbformat_minor": 2
}
