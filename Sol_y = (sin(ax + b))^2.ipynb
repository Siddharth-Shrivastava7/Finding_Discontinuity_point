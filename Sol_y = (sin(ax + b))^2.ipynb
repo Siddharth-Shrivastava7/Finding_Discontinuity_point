{
 "cells": [
  {
   "cell_type": "code",
   "execution_count": 1,
   "metadata": {},
   "outputs": [],
   "source": [
    "import numpy as np \n",
    "from scipy import optimize"
   ]
  },
  {
   "cell_type": "code",
   "execution_count": 2,
   "metadata": {},
   "outputs": [],
   "source": [
    "'''using scipy's optimize method to fit an approximate sine sqaured function over given\n",
    " data points, which gives us parameters of approximate curve which will be used to give\n",
    " predicted value. Using the logic in which the point which gives the highest error between\n",
    " the predicted value and the actual value is our error data point''' \n",
    "\n",
    "# one limittion for this method is that it works for small value of coefficients (a and b) \n",
    "\n",
    "def main1(x,y):\n",
    "    ''' Defined test function which is to be used in curve_fit method'''\n",
    "    def test(x, a, b):\n",
    "        \n",
    "        return np.square(np.sin((a * x) + b))\n",
    "\n",
    "    params, _ = optimize.curve_fit(test, x, y)\n",
    "    \n",
    "    [a,b] = params\n",
    "    \n",
    "    '''Estimating predicted value using parameters found by approximate\n",
    "     curve from giventhe data points'''   \n",
    "    \n",
    "    y_hat = np.square(np.sin((a * x) + b)) \n",
    "    \n",
    "    ''' finding error over whole data points'''\n",
    "    \n",
    "    error = np.absolute(y - y_hat) \n",
    "    \n",
    "    ''' index of data-point which is not in not \n",
    "    inthe given function'''\n",
    "    \n",
    "    index_max_error = np.argmax(error) + 1 \n",
    "    \n",
    "    return index_max_error"
   ]
  },
  {
   "cell_type": "code",
   "execution_count": 3,
   "metadata": {},
   "outputs": [],
   "source": [
    "np.random.seed(0)\n",
    "''' assume x for example'''\n",
    "x_data = np.linspace(-5, 5, num=99) \n",
    "''' considered y according to given function'''\n",
    "y_data = np.square(np.sin(( 0.79 * x_data) + 1 )) \n",
    "''' inserting wrong point at a index of 65 (64 index according to python indexing)'''\n",
    "x_data = np.insert(x_data, 64, 7) \n",
    "y_data = np.insert(y_data, 64, 1) "
   ]
  },
  {
   "cell_type": "code",
   "execution_count": 4,
   "metadata": {},
   "outputs": [
    {
     "data": {
      "text/plain": [
       "65"
      ]
     },
     "execution_count": 4,
     "metadata": {},
     "output_type": "execute_result"
    }
   ],
   "source": [
    "inx = main1(x_data,y_data)\n",
    "'''the wrong point in the data set of 100 mentioned points'''\n",
    "inx "
   ]
  }
 ],
 "metadata": {
  "kernelspec": {
   "display_name": "Python 3",
   "language": "python",
   "name": "python3"
  },
  "language_info": {
   "codemirror_mode": {
    "name": "ipython",
    "version": 3
   },
   "file_extension": ".py",
   "mimetype": "text/x-python",
   "name": "python",
   "nbconvert_exporter": "python",
   "pygments_lexer": "ipython3",
   "version": "3.6.5"
  }
 },
 "nbformat": 4,
 "nbformat_minor": 2
}
